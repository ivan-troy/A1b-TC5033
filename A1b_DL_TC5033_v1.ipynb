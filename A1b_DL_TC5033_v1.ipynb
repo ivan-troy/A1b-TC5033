{
 "cells": [
  {
   "cell_type": "markdown",
   "metadata": {},
   "source": [
    "# TC 5033\n",
    "## Deep Learning\n",
    "## Fully Connected Deep Neural Networks\n",
    "\n",
    "#### Activity 1b: Implementing a Fully Connected Network for Kaggle ASL Dataset\n",
    "\n",
    "- Objective\n",
    "\n",
    "The aim of this part of the activity is to apply your understanding of Fully Connected Networks by implementing a multilayer network for the [Kaggle ASL (American Sign Language) dataset](https://www.kaggle.com/datasets/grassknoted/asl-alphabet). While you have been provided with a complete solution for a Fully Connected Network using Numpy for the MNIST dataset, you are encouraged to try to come up with the solution.\n",
    "\n",
    "- Instructions\n",
    "\n",
    "    This activity requires submission in teams of 3 or 4 members. Submissions from smaller or larger teams will not be accepted unless prior approval has been granted (only due to exceptional circumstances). While teamwork is encouraged, each member is expected to contribute individually to the assignment. The final submission should feature the best arguments and solutions from each team member. Only one person per team needs to submit the completed work, but it is imperative that the names of all team members are listed in a Markdown cell at the very beginning of the notebook (either the first or second cell). Failure to include all team member names will result in the grade being awarded solely to the individual who submitted the assignment, with zero points given to other team members (no exceptions will be made to this rule).\n",
    "\n",
    "    Load and Preprocess Data: You are provided a starter code to load the data. Be sure to understand the code.\n",
    "\n",
    "    Review MNIST Notebook (Optional): Before diving into this activity, you have the option to revisit the MNIST example to refresh your understanding of how to build a Fully Connected Network using Numpy.\n",
    "\n",
    "    Start Fresh: Although you can refer to the MNIST solution at any point, try to implement the network for the ASL dataset on your own. This will reinforce your learning and understanding of the architecture and mathematics involved.\n",
    "\n",
    "    Implement Forward and Backward Pass: Write the code to perform the forward and backward passes, keeping in mind the specific challenges and characteristics of the ASL dataset.\n",
    "    \n",
    "     Design the Network: Create the architecture of the Fully Connected Network tailored for the ASL dataset. Choose the number of hidden layers, neurons, and hyperparameters judiciously.\n",
    "\n",
    "    Train the Model: Execute the training loop, ensuring to track performance metrics such as loss and accuracy.\n",
    "\n",
    "    Analyze and Document: Use Markdown cells to document in detail the choices you made in terms of architecture and hyperparameters, you may use figures, equations, etc to aid in your explanations. Include any metrics that help justify these choices and discuss the model's performance.  \n",
    "\n",
    "- Evaluation Criteria\n",
    "\n",
    "    - Code Readability and Comments\n",
    "    - Appropriateness of chosen architecture and hyperparameters for the ASL dataset\n",
    "    - Performance of the model on the ASL dataset (at least 70% acc)\n",
    "    - Quality of Markdown documentation\n",
    "\n",
    "- Submission\n",
    "\n",
    "Submit this Jupyter Notebook in canvas with your complete solution, ensuring your code is well-commented and includes Markdown cells that explain your design choices, results, and any challenges you encountered.\n"
   ]
  },
  {
   "cell_type": "code",
   "metadata": {
    "ExecuteTime": {
     "end_time": "2024-09-27T20:43:45.177780Z",
     "start_time": "2024-09-27T20:43:45.040266Z"
    }
   },
   "source": [
    "import numpy as np\n",
    "import string\n",
    "import pandas as pd\n",
    "import matplotlib.pyplot as plt\n",
    "#import cv2 as cv\n",
    "import os\n",
    "\n",
    "%load_ext autoreload\n",
    "%autoreload 2\n",
    "#################################\n",
    "%matplotlib inline\n"
   ],
   "outputs": [
    {
     "name": "stdout",
     "output_type": "stream",
     "text": [
      "The autoreload extension is already loaded. To reload it, use:\n",
      "  %reload_ext autoreload\n"
     ]
    }
   ],
   "execution_count": 37
  },
  {
   "cell_type": "code",
   "metadata": {
    "ExecuteTime": {
     "end_time": "2024-09-27T20:43:50.114290Z",
     "start_time": "2024-09-27T20:43:45.218724Z"
    }
   },
   "source": [
    "# DATA_PATH = '/media/pepe/DataUbuntu/Databases/asl_data/'\n",
    "DATA_PATH = './asl_data'\n",
    "train_df = pd.read_csv(os.path.join(DATA_PATH, 'sign_mnist_train.csv'))\n",
    "valid_df = pd.read_csv(os.path.join(DATA_PATH, 'sign_mnist_valid.csv'))"
   ],
   "outputs": [],
   "execution_count": 38
  },
  {
   "cell_type": "code",
   "metadata": {
    "ExecuteTime": {
     "end_time": "2024-09-27T20:43:50.317113Z",
     "start_time": "2024-09-27T20:43:50.165525Z"
    }
   },
   "source": [
    "train_df.head()"
   ],
   "outputs": [
    {
     "data": {
      "text/plain": [
       "   label  pixel1  pixel2  pixel3  pixel4  pixel5  pixel6  pixel7  pixel8  \\\n",
       "0      3     107     118     127     134     139     143     146     150   \n",
       "1      6     155     157     156     156     156     157     156     158   \n",
       "2      2     187     188     188     187     187     186     187     188   \n",
       "3      2     211     211     212     212     211     210     211     210   \n",
       "4     12     164     167     170     172     176     179     180     184   \n",
       "\n",
       "   pixel9  ...  pixel775  pixel776  pixel777  pixel778  pixel779  pixel780  \\\n",
       "0     153  ...       207       207       207       207       206       206   \n",
       "1     158  ...        69       149       128        87        94       163   \n",
       "2     187  ...       202       201       200       199       198       199   \n",
       "3     210  ...       235       234       233       231       230       226   \n",
       "4     185  ...        92       105       105       108       133       163   \n",
       "\n",
       "   pixel781  pixel782  pixel783  pixel784  \n",
       "0       206       204       203       202  \n",
       "1       175       103       135       149  \n",
       "2       198       195       194       195  \n",
       "3       225       222       229       163  \n",
       "4       157       163       164       179  \n",
       "\n",
       "[5 rows x 785 columns]"
      ],
      "text/html": [
       "<div>\n",
       "<style scoped>\n",
       "    .dataframe tbody tr th:only-of-type {\n",
       "        vertical-align: middle;\n",
       "    }\n",
       "\n",
       "    .dataframe tbody tr th {\n",
       "        vertical-align: top;\n",
       "    }\n",
       "\n",
       "    .dataframe thead th {\n",
       "        text-align: right;\n",
       "    }\n",
       "</style>\n",
       "<table border=\"1\" class=\"dataframe\">\n",
       "  <thead>\n",
       "    <tr style=\"text-align: right;\">\n",
       "      <th></th>\n",
       "      <th>label</th>\n",
       "      <th>pixel1</th>\n",
       "      <th>pixel2</th>\n",
       "      <th>pixel3</th>\n",
       "      <th>pixel4</th>\n",
       "      <th>pixel5</th>\n",
       "      <th>pixel6</th>\n",
       "      <th>pixel7</th>\n",
       "      <th>pixel8</th>\n",
       "      <th>pixel9</th>\n",
       "      <th>...</th>\n",
       "      <th>pixel775</th>\n",
       "      <th>pixel776</th>\n",
       "      <th>pixel777</th>\n",
       "      <th>pixel778</th>\n",
       "      <th>pixel779</th>\n",
       "      <th>pixel780</th>\n",
       "      <th>pixel781</th>\n",
       "      <th>pixel782</th>\n",
       "      <th>pixel783</th>\n",
       "      <th>pixel784</th>\n",
       "    </tr>\n",
       "  </thead>\n",
       "  <tbody>\n",
       "    <tr>\n",
       "      <th>0</th>\n",
       "      <td>3</td>\n",
       "      <td>107</td>\n",
       "      <td>118</td>\n",
       "      <td>127</td>\n",
       "      <td>134</td>\n",
       "      <td>139</td>\n",
       "      <td>143</td>\n",
       "      <td>146</td>\n",
       "      <td>150</td>\n",
       "      <td>153</td>\n",
       "      <td>...</td>\n",
       "      <td>207</td>\n",
       "      <td>207</td>\n",
       "      <td>207</td>\n",
       "      <td>207</td>\n",
       "      <td>206</td>\n",
       "      <td>206</td>\n",
       "      <td>206</td>\n",
       "      <td>204</td>\n",
       "      <td>203</td>\n",
       "      <td>202</td>\n",
       "    </tr>\n",
       "    <tr>\n",
       "      <th>1</th>\n",
       "      <td>6</td>\n",
       "      <td>155</td>\n",
       "      <td>157</td>\n",
       "      <td>156</td>\n",
       "      <td>156</td>\n",
       "      <td>156</td>\n",
       "      <td>157</td>\n",
       "      <td>156</td>\n",
       "      <td>158</td>\n",
       "      <td>158</td>\n",
       "      <td>...</td>\n",
       "      <td>69</td>\n",
       "      <td>149</td>\n",
       "      <td>128</td>\n",
       "      <td>87</td>\n",
       "      <td>94</td>\n",
       "      <td>163</td>\n",
       "      <td>175</td>\n",
       "      <td>103</td>\n",
       "      <td>135</td>\n",
       "      <td>149</td>\n",
       "    </tr>\n",
       "    <tr>\n",
       "      <th>2</th>\n",
       "      <td>2</td>\n",
       "      <td>187</td>\n",
       "      <td>188</td>\n",
       "      <td>188</td>\n",
       "      <td>187</td>\n",
       "      <td>187</td>\n",
       "      <td>186</td>\n",
       "      <td>187</td>\n",
       "      <td>188</td>\n",
       "      <td>187</td>\n",
       "      <td>...</td>\n",
       "      <td>202</td>\n",
       "      <td>201</td>\n",
       "      <td>200</td>\n",
       "      <td>199</td>\n",
       "      <td>198</td>\n",
       "      <td>199</td>\n",
       "      <td>198</td>\n",
       "      <td>195</td>\n",
       "      <td>194</td>\n",
       "      <td>195</td>\n",
       "    </tr>\n",
       "    <tr>\n",
       "      <th>3</th>\n",
       "      <td>2</td>\n",
       "      <td>211</td>\n",
       "      <td>211</td>\n",
       "      <td>212</td>\n",
       "      <td>212</td>\n",
       "      <td>211</td>\n",
       "      <td>210</td>\n",
       "      <td>211</td>\n",
       "      <td>210</td>\n",
       "      <td>210</td>\n",
       "      <td>...</td>\n",
       "      <td>235</td>\n",
       "      <td>234</td>\n",
       "      <td>233</td>\n",
       "      <td>231</td>\n",
       "      <td>230</td>\n",
       "      <td>226</td>\n",
       "      <td>225</td>\n",
       "      <td>222</td>\n",
       "      <td>229</td>\n",
       "      <td>163</td>\n",
       "    </tr>\n",
       "    <tr>\n",
       "      <th>4</th>\n",
       "      <td>12</td>\n",
       "      <td>164</td>\n",
       "      <td>167</td>\n",
       "      <td>170</td>\n",
       "      <td>172</td>\n",
       "      <td>176</td>\n",
       "      <td>179</td>\n",
       "      <td>180</td>\n",
       "      <td>184</td>\n",
       "      <td>185</td>\n",
       "      <td>...</td>\n",
       "      <td>92</td>\n",
       "      <td>105</td>\n",
       "      <td>105</td>\n",
       "      <td>108</td>\n",
       "      <td>133</td>\n",
       "      <td>163</td>\n",
       "      <td>157</td>\n",
       "      <td>163</td>\n",
       "      <td>164</td>\n",
       "      <td>179</td>\n",
       "    </tr>\n",
       "  </tbody>\n",
       "</table>\n",
       "<p>5 rows × 785 columns</p>\n",
       "</div>"
      ]
     },
     "execution_count": 39,
     "metadata": {},
     "output_type": "execute_result"
    }
   ],
   "execution_count": 39
  },
  {
   "cell_type": "markdown",
   "metadata": {},
   "source": [
    "### Importar Images"
   ]
  },
  {
   "cell_type": "code",
   "metadata": {
    "ExecuteTime": {
     "end_time": "2024-09-27T20:43:50.972669Z",
     "start_time": "2024-09-27T20:43:50.647588Z"
    }
   },
   "source": [
    "y_train = np.array(train_df['label'])\n",
    "y_val = np.array(valid_df['label'])\n",
    "del train_df['label']\n",
    "del valid_df['label']\n",
    "x_train = train_df.values.astype(np.float32)\n",
    "x_val = valid_df.values.astype(np.float32)"
   ],
   "outputs": [],
   "execution_count": 40
  },
  {
   "metadata": {
    "ExecuteTime": {
     "end_time": "2024-09-27T20:43:52.025904Z",
     "start_time": "2024-09-27T20:43:51.827947Z"
    }
   },
   "cell_type": "code",
   "source": [
    "print(x_train.shape)\n",
    "print(y_train.shape)\n",
    "print(x_val.shape)\n",
    "print(y_val.shape)"
   ],
   "outputs": [
    {
     "name": "stdout",
     "output_type": "stream",
     "text": [
      "(27455, 784)\n",
      "(27455,)\n",
      "(7172, 784)\n",
      "(7172,)\n"
     ]
    }
   ],
   "execution_count": 41
  },
  {
   "cell_type": "code",
   "metadata": {
    "code_folding": [],
    "ExecuteTime": {
     "end_time": "2024-09-27T20:43:53.479149Z",
     "start_time": "2024-09-27T20:43:53.338740Z"
    }
   },
   "source": [
    "def split_val_test(x, y, pct=0.5, shuffle=False):\n",
    "    '''\n",
    "    Splits the dataset into validation and test sets.\n",
    "\n",
    "    Args:\n",
    "      x (numpy array or list):\n",
    "        Input features for the model\n",
    "      y (numpy array or list):\n",
    "        Target values for the model\n",
    "      pct (float):\n",
    "        Percentage of data to allocate to the validation set, default is 50%.\n",
    "      shuffle (bool):\n",
    "        Whether to shuffle the data before splitting it, default is True.\n",
    "    '''\n",
    "    if not isinstance(x, np.ndarray) and not isinstance(y, np.ndarray):\n",
    "        raise TypeError(\"Both x and y must be numpy arrays or lists.\")\n",
    "\n",
    "    if len(x) != len(y):\n",
    "        raise ValueError(\"The number of input features and target values must be equal.\")\n",
    "\n",
    "    # Split data into validation and test sets\n",
    "    split_idx = int(len(x) * pct)\n",
    "    x_val, x_test = np.split(x, [split_idx])\n",
    "    y_val, y_test = np.split(y, [split_idx])\n",
    "\n",
    "    # Reshape the target values if needed\n",
    "    if len(y_val) > 1 and len(y_test) > 1:\n",
    "        y_val = y_val.reshape(-1, 1)\n",
    "        y_test = y_test.reshape(-1, 1)\n",
    "\n",
    "    # Shuffle the data if necessary\n",
    "    if shuffle:\n",
    "        np.random.shuffle(x_val)\n",
    "        np.random.shuffle(y_val)\n",
    "        np.random.shuffle(x_test)\n",
    "        np.random.shuffle(y_test)\n",
    "\n",
    "    return x_val, y_val, x_test, y_test"
   ],
   "outputs": [],
   "execution_count": 42
  },
  {
   "cell_type": "code",
   "metadata": {
    "ExecuteTime": {
     "end_time": "2024-09-27T20:43:54.120394Z",
     "start_time": "2024-09-27T20:43:53.976398Z"
    }
   },
   "source": [
    "x_val, y_val, x_test, y_test = split_val_test(x_val, y_val)"
   ],
   "outputs": [],
   "execution_count": 43
  },
  {
   "cell_type": "markdown",
   "metadata": {},
   "source": [
    "### Normalise"
   ]
  },
  {
   "metadata": {
    "ExecuteTime": {
     "end_time": "2024-09-27T20:43:54.307074Z",
     "start_time": "2024-09-27T20:43:54.170682Z"
    }
   },
   "cell_type": "code",
   "source": [
    "def normalise(x_mean, x_std, x_data):\n",
    "    return (x_data - x_mean) / x_std"
   ],
   "outputs": [],
   "execution_count": 44
  },
  {
   "metadata": {
    "ExecuteTime": {
     "end_time": "2024-09-27T20:43:54.683306Z",
     "start_time": "2024-09-27T20:43:54.357752Z"
    }
   },
   "cell_type": "code",
   "source": [
    "x_mean = x_train.mean()\n",
    "x_std = x_train.std()\n",
    "\n",
    "x_train = normalise(x_mean, x_std, x_train)\n",
    "x_val = normalise(x_mean, x_std, x_val)\n",
    "x_test = normalise(x_mean, x_std, x_test)"
   ],
   "outputs": [],
   "execution_count": 45
  },
  {
   "metadata": {
    "ExecuteTime": {
     "end_time": "2024-09-27T20:43:54.968136Z",
     "start_time": "2024-09-27T20:43:54.735941Z"
    }
   },
   "cell_type": "code",
   "source": "x_train.mean(), x_train.std()",
   "outputs": [
    {
     "data": {
      "text/plain": [
       "(3.6268384e-06, 0.99999946)"
      ]
     },
     "execution_count": 46,
     "metadata": {},
     "output_type": "execute_result"
    }
   ],
   "execution_count": 46
  },
  {
   "cell_type": "markdown",
   "metadata": {},
   "source": [
    "### Graficar muestras"
   ]
  },
  {
   "metadata": {
    "ExecuteTime": {
     "end_time": "2024-09-27T20:43:55.154296Z",
     "start_time": "2024-09-27T20:43:55.019231Z"
    }
   },
   "cell_type": "code",
   "source": [
    "def plot_number(image):\n",
    "    plt.figure(figsize=(5,5))\n",
    "    plt.imshow(image.squeeze(), cmap=plt.get_cmap('gray'))\n",
    "    plt.axis('off')\n",
    "    plt.show()"
   ],
   "outputs": [],
   "execution_count": 47
  },
  {
   "metadata": {
    "ExecuteTime": {
     "end_time": "2024-09-27T20:43:55.341058Z",
     "start_time": "2024-09-27T20:43:55.205327Z"
    }
   },
   "cell_type": "code",
   "source": [
    "alphabet=list(string.ascii_lowercase)\n",
    "print(len(alphabet))"
   ],
   "outputs": [
    {
     "name": "stdout",
     "output_type": "stream",
     "text": [
      "26\n"
     ]
    }
   ],
   "execution_count": 48
  },
  {
   "metadata": {
    "ExecuteTime": {
     "end_time": "2024-09-27T20:43:55.716977Z",
     "start_time": "2024-09-27T20:43:55.391395Z"
    }
   },
   "cell_type": "code",
   "source": [
    "rnd_idx = np.random.randint(len(y_test))\n",
    "print(f'La imagen muestreada representa un: {alphabet[int(y_test[rnd_idx, 0])]}')\n",
    "image = x_test[rnd_idx].reshape(28, 28)\n",
    "plot_number(image)"
   ],
   "outputs": [
    {
     "name": "stdout",
     "output_type": "stream",
     "text": [
      "La imagen muestreada representa un: m\n"
     ]
    },
    {
     "data": {
      "text/plain": [
       "<Figure size 500x500 with 1 Axes>"
      ],
      "image/png": "[encoded data removed]"
     },
     "metadata": {},
     "output_type": "display_data"
    }
   ],
   "execution_count": 49
  },
  {
   "cell_type": "markdown",
   "metadata": {},
   "source": [
    "### Ecuaciones para nuestro modelo\n",
    "\n",
    "\n",
    "$$z^1 = W^1 X + b^1$$\n",
    "\n",
    "$$a^1 = ReLU(z^1) $$\n",
    "\n",
    "$$z^2 = W^2 a^1 + b^2$$\n",
    "\n",
    "$$\\hat{y} = \\frac{e^{z^{2_k}}}{\\sum_j{e^{z_j}}}$$\n",
    "\n",
    "\n",
    "$$ \\mathcal{L}(\\hat{y}^{i}, y^{i}) =  - y^{i}  \\ln(\\hat{y}^{i}) = -\\ln(\\hat{y}^i)$$\n",
    "\n",
    "\n",
    "$$ \\mathcal{J}(w, b) =  \\frac{1}{num\\_samples} \\sum_{i=1}^{num\\_samples}-\\ln(\\hat{y}^{i})$$"
   ]
  },
  {
   "cell_type": "markdown",
   "metadata": {},
   "source": [
    "### Funciones adicionales"
   ]
  },
  {
   "cell_type": "markdown",
   "metadata": {},
   "source": [
    "#### Mini batches"
   ]
  },
  {
   "cell_type": "code",
   "metadata": {
    "ExecuteTime": {
     "end_time": "2024-09-27T20:43:55.902896Z",
     "start_time": "2024-09-27T20:43:55.767860Z"
    }
   },
   "source": [
    "def create_minibatches(mb_size, x, y, shuffle = True):\n",
    "    '''\n",
    "    x #muestras, 784\n",
    "    y #muestras, 1\n",
    "    '''\n",
    "    assert x.shape[0] == y.shape[0], 'Error en cantidad de muestras'\n",
    "    total_data = x.shape[0]\n",
    "    if shuffle:\n",
    "        idxs = np.arange(total_data)\n",
    "        np.random.shuffle(idxs)\n",
    "        x = x[idxs]\n",
    "        y = y[idxs]\n",
    "    return ((x[i:i+mb_size], y[i:i+mb_size]) for i in range(0, total_data, mb_size))"
   ],
   "outputs": [],
   "execution_count": 50
  },
  {
   "cell_type": "markdown",
   "metadata": {},
   "source": [
    "## Nuestra clase Linear, ReLU y Sequential"
   ]
  },
  {
   "metadata": {
    "ExecuteTime": {
     "end_time": "2024-09-27T20:43:56.089767Z",
     "start_time": "2024-09-27T20:43:55.954634Z"
    }
   },
   "cell_type": "code",
   "source": "class np_tensor(np.ndarray): pass",
   "outputs": [],
   "execution_count": 51
  },
  {
   "metadata": {
    "ExecuteTime": {
     "end_time": "2024-09-27T20:43:56.277080Z",
     "start_time": "2024-09-27T20:43:56.140413Z"
    }
   },
   "cell_type": "code",
   "source": [
    "a = np.array([0, 0])\n",
    "b = a.view(np_tensor)\n",
    "print(type(a))\n",
    "print(type(b))\n",
    "print(a == b)\n",
    "print(a is b)"
   ],
   "outputs": [
    {
     "name": "stdout",
     "output_type": "stream",
     "text": [
      "<class 'numpy.ndarray'>\n",
      "<class '__main__.np_tensor'>\n",
      "[ True  True]\n",
      "False\n"
     ]
    }
   ],
   "execution_count": 52
  },
  {
   "cell_type": "markdown",
   "metadata": {},
   "source": [
    "###  Clase Linear"
   ]
  },
  {
   "metadata": {
    "ExecuteTime": {
     "end_time": "2024-09-27T20:43:56.464494Z",
     "start_time": "2024-09-27T20:43:56.328195Z"
    }
   },
   "cell_type": "code",
   "source": [
    "class Linear():\n",
    "    def __init__(self, input_size, output_size):\n",
    "        '''\n",
    "        Init parameters utilizando Kaiming He\n",
    "        '''\n",
    "        self.W = (np.random.randn(output_size, input_size) / np.sqrt(input_size/2)).view(np_tensor)\n",
    "        self.b = (np.zeros((output_size, 1))).view(np_tensor)\n",
    "    def __call__(self, X): # esta el forward de la clase lineal\n",
    "        Z = self.W @ X + self.b\n",
    "        return Z\n",
    "    def backward(self, X, Z):\n",
    "        X.grad = self.W.T @ Z.grad\n",
    "        self.W.grad = Z.grad @ X.T\n",
    "        self.b.grad = np.sum(Z.grad, axis = 1, keepdims=True)"
   ],
   "outputs": [],
   "execution_count": 53
  },
  {
   "cell_type": "markdown",
   "metadata": {},
   "source": [
    "### Clase ReLU"
   ]
  },
  {
   "metadata": {
    "ExecuteTime": {
     "end_time": "2024-09-27T20:43:56.651923Z",
     "start_time": "2024-09-27T20:43:56.516971Z"
    }
   },
   "cell_type": "code",
   "source": [
    "class ReLU():\n",
    "    def __call__(self, Z):\n",
    "        return np.maximum(0, Z)\n",
    "    def backward(self, Z, A):\n",
    "        Z.grad = A.grad.copy()\n",
    "        Z.grad[Z <= 0] = 0"
   ],
   "outputs": [],
   "execution_count": 54
  },
  {
   "metadata": {},
   "cell_type": "markdown",
   "source": "### Clase LeakyReLU"
  },
  {
   "metadata": {
    "ExecuteTime": {
     "end_time": "2024-09-27T20:43:56.839032Z",
     "start_time": "2024-09-27T20:43:56.702889Z"
    }
   },
   "cell_type": "code",
   "source": [
    "class LeakyReLU():\n",
    "    def __init__(self, alpha = 0.2):\n",
    "        self.alpha = alpha\n",
    "    def __call__(self, Z):\n",
    "        return np.maximum(self.alpha * Z, Z)\n",
    "    def backward(self, Z, A):\n",
    "        Z.grad = A.grad.copy()\n",
    "        Z.grad[Z <= 0] = self.alpha * Z.grad[Z <= 0]"
   ],
   "outputs": [],
   "execution_count": 55
  },
  {
   "metadata": {},
   "cell_type": "markdown",
   "source": "### Clase Dropout\n"
  },
  {
   "metadata": {
    "ExecuteTime": {
     "end_time": "2024-09-27T20:43:57.025027Z",
     "start_time": "2024-09-27T20:43:56.888973Z"
    }
   },
   "cell_type": "code",
   "source": [
    "class Dropout():\n",
    "    def __init__(self, p=0.5):\n",
    "        self.p = p\n",
    "        self.mask = None\n",
    "    def __call__(self, Z, training=True):\n",
    "        if training:\n",
    "            self.mask = (np.random.rand(*Z.shape) > self.p) / (1 - self.p)\n",
    "            return Z * self.mask\n",
    "        else:\n",
    "            return Z\n",
    "    def backward(self, Z, A):\n",
    "        Z.grad = A.grad * self.mask"
   ],
   "outputs": [],
   "execution_count": 56
  },
  {
   "cell_type": "markdown",
   "metadata": {},
   "source": [
    "### Clase Sequential"
   ]
  },
  {
   "metadata": {
    "ExecuteTime": {
     "end_time": "2024-09-27T20:43:57.212179Z",
     "start_time": "2024-09-27T20:43:57.074886Z"
    }
   },
   "cell_type": "code",
   "source": [
    "class Sequential_layers():\n",
    "    def __init__(self, layers):\n",
    "        self.layers = layers\n",
    "        self.x = None\n",
    "        self.outputs = {}\n",
    "    def __call__(self, X, training=True):\n",
    "        self.x = X\n",
    "        self.outputs['l0'] = self.x\n",
    "        for i, layer in enumerate(self.layers, 1):\n",
    "            if isinstance(layer, Dropout):\n",
    "                self.x = layer(self.x, training=training)\n",
    "            else:\n",
    "                self.x = layer(self.x)\n",
    "            self.outputs['l'+str(i)]=self.x\n",
    "        return self.x\n",
    "    def backward(self):\n",
    "        for i in reversed(range(len(self.layers))):\n",
    "            self.layers[i].backward(self.outputs['l'+str(i)], self.outputs['l'+str(i+1)])\n",
    "    def update(self, learning_rate = 1e-3, l2_lambda=0.01):\n",
    "        for layer in self.layers:\n",
    "            if isinstance(layer, (ReLU, LeakyReLU, Dropout)): continue\n",
    "            #layer.W = layer.W - learning_rate * layer.W.grad\n",
    "            layer.W = layer.W - learning_rate * (layer.W.grad + l2_lambda * layer.W)\n",
    "            layer.b = layer.b - learning_rate * layer.b.grad\n",
    "    def predict(self, X):\n",
    "        return np.argmax(self.__call__(X))"
   ],
   "outputs": [],
   "execution_count": 57
  },
  {
   "cell_type": "markdown",
   "metadata": {},
   "source": [
    "### Cost Function"
   ]
  },
  {
   "metadata": {
    "ExecuteTime": {
     "end_time": "2024-09-27T20:43:57.398640Z",
     "start_time": "2024-09-27T20:43:57.261905Z"
    }
   },
   "cell_type": "code",
   "source": [
    "def softmaxXEntropy(x, y, l2_lambda=0.01):\n",
    "    batch_size = x.shape[1]\n",
    "    exp_scores = np.exp(x)\n",
    "    probs = exp_scores / exp_scores.sum(axis = 0)\n",
    "    preds = probs.copy()\n",
    "    # Costo\n",
    "    y_hat = probs[y.squeeze(), np.arange(batch_size)]\n",
    "    cost = np.sum(-np.log(y_hat)) / batch_size\n",
    "\n",
    "    # Add L2 regularization term to the cost\n",
    "    l2_cost = 0\n",
    "    for layer in model.layers:\n",
    "        if isinstance(layer, Linear):\n",
    "            l2_cost += 0.5 * l2_lambda * np.sum(layer.W ** 2)\n",
    "    cost += l2_cost\n",
    "\n",
    "    # Calcular gradientes\n",
    "    probs[y.squeeze(), np.arange(batch_size)] -= 1 #dl/dx\n",
    "    x.grad = probs.copy()\n",
    "    return preds, cost\n",
    "\n",
    "\n",
    "def accuracy(x, y, mb_size):\n",
    "    correct = 0\n",
    "    total = 0\n",
    "    for i, (x, y) in enumerate(create_minibatches(mb_size, x, y)):\n",
    "        pred = model(x.T.view(np_tensor))\n",
    "        correct += np.sum(np.argmax(pred, axis=0) == y.squeeze())\n",
    "        total += pred.shape[1]\n",
    "    return correct/total"
   ],
   "outputs": [],
   "execution_count": 58
  },
  {
   "cell_type": "markdown",
   "metadata": {},
   "source": [
    "### Loop de entrenamiento"
   ]
  },
  {
   "metadata": {
    "ExecuteTime": {
     "end_time": "2024-09-27T20:43:57.585659Z",
     "start_time": "2024-09-27T20:43:57.447860Z"
    }
   },
   "cell_type": "code",
   "source": [
    "def train(model, epochs, mb_size=128, learning_rate = 1e-3, l2_lambda=0.01):\n",
    "    train_accuracies = []\n",
    "    val_accuracies = []\n",
    "\n",
    "    for epoch in range(epochs):\n",
    "        for i, (x, y) in enumerate(create_minibatches(mb_size, x_train, y_train)):\n",
    "            scores = model(x.T.view(np_tensor), training=True)\n",
    "            _, cost = softmaxXEntropy(scores, y, l2_lambda=l2_lambda)\n",
    "            model.backward()\n",
    "            model.update(learning_rate, l2_lambda=l2_lambda)\n",
    "        train_acc = accuracy(x_train, y_train, mb_size)\n",
    "        val_acc = accuracy(x_val, y_val, mb_size)\n",
    "        train_accuracies.append(train_acc)\n",
    "        val_accuracies.append(val_acc)\n",
    "        print(f'epoch: {epoch+1:03d} costo: {cost:.6f}, val accuracy: {accuracy(x_val, y_val, mb_size):.6f}')"
   ],
   "outputs": [],
   "execution_count": 59
  },
  {
   "cell_type": "markdown",
   "metadata": {},
   "source": [
    "### Create your model and train it"
   ]
  },
  {
   "cell_type": "code",
   "metadata": {
    "ExecuteTime": {
     "end_time": "2024-09-27T20:43:57.836368Z",
     "start_time": "2024-09-27T20:43:57.638997Z"
    }
   },
   "source": [
    "model_names = ['Base', 'New Model 1', 'New Model 2', 'Model + LeakyReLU', 'Model + Dropout']\n",
    "model_definitions = [\n",
    "    Sequential_layers([\n",
    "        Linear(784, 200), ReLU(),\n",
    "        Linear(200, 200), ReLU(),\n",
    "        Linear(200, 24)]),\n",
    "\n",
    "    Sequential_layers([\n",
    "        Linear(784, 256), ReLU(),\n",
    "        Linear(256, 256), ReLU(),\n",
    "        Linear(256, 24)]),\n",
    "\n",
    "    Sequential_layers([\n",
    "        Linear(784, 256), ReLU(),\n",
    "        Linear(256, 128), ReLU(),\n",
    "        Linear(128, 64), ReLU(),\n",
    "        Linear(64, 24)]),\n",
    "\n",
    "    Sequential_layers([\n",
    "        Linear(784, 256), LeakyReLU(),\n",
    "        Linear(256, 128), LeakyReLU(),\n",
    "        Linear(128, 24)]),\n",
    "\n",
    "    Sequential_layers([\n",
    "        Linear(784, 256), ReLU(), Dropout(p=0.2),\n",
    "        Linear(256, 128), ReLU(), Dropout(p=0.2),\n",
    "        Linear(128, 64), ReLU(), Dropout(p=0.2),\n",
    "        Linear(64, 24)]),\n",
    "\n",
    "]\n",
    "\n",
    "# zip the two lists using zip() function\n",
    "model_list = list(zip(model_names, model_definitions))"
   ],
   "outputs": [],
   "execution_count": 60
  },
  {
   "metadata": {
    "ExecuteTime": {
     "end_time": "2024-09-27T20:46:49.547258Z",
     "start_time": "2024-09-27T20:43:57.886590Z"
    }
   },
   "cell_type": "code",
   "source": [
    "mb_size = 128\n",
    "learning_rate = 1e-3\n",
    "l2_lambda = 1e-3\n",
    "epochs = 10\n",
    "\n",
    "for index, tuple in enumerate(model_list):\n",
    "    name, model = tuple\n",
    "    print(f'\\nTraining model: {name}')\n",
    "    train(model, epochs, mb_size, learning_rate, l2_lambda)"
   ],
   "outputs": [
    {
     "name": "stdout",
     "output_type": "stream",
     "text": [
      "\n",
      "Training model: Base\n",
      "epoch: 001 costo: 0.503407, val accuracy: 0.740658\n",
      "epoch: 002 costo: 0.479964, val accuracy: 0.766592\n",
      "epoch: 003 costo: 0.473135, val accuracy: 0.763525\n",
      "epoch: 004 costo: 0.474348, val accuracy: 0.765477\n",
      "epoch: 005 costo: 0.477360, val accuracy: 0.771054\n",
      "epoch: 006 costo: 0.476948, val accuracy: 0.770775\n",
      "epoch: 007 costo: 0.475578, val accuracy: 0.772170\n",
      "epoch: 008 costo: 0.477111, val accuracy: 0.775795\n",
      "epoch: 009 costo: 0.477572, val accuracy: 0.777747\n",
      "epoch: 010 costo: 0.478580, val accuracy: 0.776074\n",
      "\n",
      "Training model: New Model 1\n",
      "epoch: 001 costo: 0.615737, val accuracy: 0.778305\n",
      "epoch: 002 costo: 0.590272, val accuracy: 0.777747\n",
      "epoch: 003 costo: 0.589590, val accuracy: 0.783882\n",
      "epoch: 004 costo: 0.586771, val accuracy: 0.785555\n",
      "epoch: 005 costo: 0.588854, val accuracy: 0.788622\n",
      "epoch: 006 costo: 0.588152, val accuracy: 0.790853\n",
      "epoch: 007 costo: 0.588383, val accuracy: 0.788622\n",
      "epoch: 008 costo: 0.589275, val accuracy: 0.790017\n",
      "epoch: 009 costo: 0.589806, val accuracy: 0.788065\n",
      "epoch: 010 costo: 0.590664, val accuracy: 0.791969\n",
      "\n",
      "Training model: New Model 2\n",
      "epoch: 001 costo: 0.542563, val accuracy: 0.748466\n",
      "epoch: 002 costo: 0.523846, val accuracy: 0.759900\n",
      "epoch: 003 costo: 0.517677, val accuracy: 0.762967\n",
      "epoch: 004 costo: 0.519845, val accuracy: 0.762688\n",
      "epoch: 005 costo: 0.520160, val accuracy: 0.764919\n",
      "epoch: 006 costo: 0.520788, val accuracy: 0.765198\n",
      "epoch: 007 costo: 0.521687, val accuracy: 0.768265\n",
      "epoch: 008 costo: 0.522226, val accuracy: 0.769102\n",
      "epoch: 009 costo: 0.522614, val accuracy: 0.770775\n",
      "epoch: 010 costo: 0.523185, val accuracy: 0.772727\n",
      "\n",
      "Training model: Model + LeakyReLU\n",
      "epoch: 001 costo: 0.502340, val accuracy: 0.749861\n",
      "epoch: 002 costo: 0.466618, val accuracy: 0.754044\n",
      "epoch: 003 costo: 0.461510, val accuracy: 0.755717\n",
      "epoch: 004 costo: 0.461356, val accuracy: 0.759621\n",
      "epoch: 005 costo: 0.462803, val accuracy: 0.758784\n",
      "epoch: 006 costo: 0.462517, val accuracy: 0.758784\n",
      "epoch: 007 costo: 0.463165, val accuracy: 0.754601\n",
      "epoch: 008 costo: 0.463756, val accuracy: 0.759900\n",
      "epoch: 009 costo: 0.466033, val accuracy: 0.756832\n",
      "epoch: 010 costo: 0.465552, val accuracy: 0.756832\n",
      "\n",
      "Training model: Model + Dropout\n",
      "epoch: 001 costo: 1.403542, val accuracy: 0.598996\n",
      "epoch: 002 costo: 0.855957, val accuracy: 0.680703\n",
      "epoch: 003 costo: 0.672264, val accuracy: 0.702733\n",
      "epoch: 004 costo: 0.660764, val accuracy: 0.711935\n",
      "epoch: 005 costo: 0.719805, val accuracy: 0.715282\n",
      "epoch: 006 costo: 0.583610, val accuracy: 0.718349\n",
      "epoch: 007 costo: 0.624419, val accuracy: 0.727552\n",
      "epoch: 008 costo: 0.641091, val accuracy: 0.725042\n",
      "epoch: 009 costo: 0.647202, val accuracy: 0.732292\n",
      "epoch: 010 costo: 0.586982, val accuracy: 0.731456\n"
     ]
    }
   ],
   "execution_count": 61
  },
  {
   "cell_type": "markdown",
   "metadata": {},
   "source": [
    "### Test your model on Random data from your test set"
   ]
  },
  {
   "cell_type": "code",
   "metadata": {
    "ExecuteTime": {
     "end_time": "2024-09-27T20:46:49.952267Z",
     "start_time": "2024-09-27T20:46:49.614174Z"
    }
   },
   "source": [
    "idx = np.random.randint(len(y_test))\n",
    "plot_number(x_test[idx].reshape(28,28))\n",
    "model = model_definitions[2]\n",
    "pred = model.predict(x_test[idx].reshape(-1, 1))\n",
    "print(f'el valor predicho es: {alphabet[pred]}, el valor real es:{alphabet[int(y_test[idx])]}')"
   ],
   "outputs": [
    {
     "data": {
      "text/plain": [
       "<Figure size 500x500 with 1 Axes>"
      ],
      "image/png": "[encoded data removed]"
     },
     "metadata": {},
     "output_type": "display_data"
    },
    {
     "name": "stdout",
     "output_type": "stream",
     "text": [
      "el valor predicho es: s, el valor real es:n\n"
     ]
    }
   ],
   "execution_count": 62
  },
  {
   "cell_type": "code",
   "metadata": {
    "ExecuteTime": {
     "end_time": "2024-09-27T20:46:50.031380Z",
     "start_time": "2024-09-27T20:46:50.020105Z"
    }
   },
   "source": [],
   "outputs": [],
   "execution_count": null
  }
 ],
 "metadata": {
  "kernelspec": {
   "display_name": "Python 3 (ipykernel)",
   "language": "python",
   "name": "python3"
  },
  "language_info": {
   "codemirror_mode": {
    "name": "ipython",
    "version": 3
   },
   "file_extension": ".py",
   "mimetype": "text/x-python",
   "name": "python",
   "nbconvert_exporter": "python",
   "pygments_lexer": "ipython3",
   "version": "3.9.0"
  },
  "toc": {
   "base_numbering": 1,
   "nav_menu": {},
   "number_sections": true,
   "sideBar": true,
   "skip_h1_title": false,
   "title_cell": "Table of Contents",
   "title_sidebar": "Contents",
   "toc_cell": false,
   "toc_position": {},
   "toc_section_display": true,
   "toc_window_display": false
  },
  "varInspector": {
   "cols": {
    "lenName": 16,
    "lenType": 16,
    "lenVar": 40
   },
   "kernels_config": {
    "python": {
     "delete_cmd_postfix": "",
     "delete_cmd_prefix": "del ",
     "library": "var_list.py",
     "varRefreshCmd": "print(var_dic_list())"
    },
    "r": {
     "delete_cmd_postfix": ") ",
     "delete_cmd_prefix": "rm(",
     "library": "var_list.r",
     "varRefreshCmd": "cat(var_dic_list()) "
    }
   },
   "types_to_exclude": [
    "module",
    "function",
    "builtin_function_or_method",
    "instance",
    "_Feature"
   ],
   "window_display": false
  }
 },
 "nbformat": 4,
 "nbformat_minor": 4
}
